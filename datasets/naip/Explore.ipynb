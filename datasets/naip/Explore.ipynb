{
 "cells": [
  {
   "cell_type": "code",
   "execution_count": null,
   "metadata": {},
   "outputs": [],
   "source": [
    "import pystac_client\n",
    "import planetary_computer\n",
    "\n",
    "catalog = pystac_client.Client.open(\n",
    "    \"https://planetarycomputer-test.microsoft.com/stac\",\n",
    "    modifier=planetary_computer.sign_inplace,\n",
    ")"
   ]
  },
  {
   "cell_type": "code",
   "execution_count": null,
   "metadata": {},
   "outputs": [],
   "source": [
    "time_range = \"2022-01-01/2022-12-31\"\n",
    "search = catalog.search(collections=[\"naip\"], datetime=time_range)\n",
    "items = search.item_collection()\n",
    "len(items)"
   ]
  },
  {
   "cell_type": "code",
   "execution_count": null,
   "metadata": {},
   "outputs": [],
   "source": [
    "import contextily\n",
    "import geopandas\n",
    "\n",
    "df = geopandas.GeoDataFrame.from_features(items.to_dict(), crs=\"epsg:4326\")\n",
    "\n",
    "ax = df[[\"geometry\", \"datetime\"]].plot(\n",
    "    facecolor=\"none\", figsize=(12, 8)\n",
    ")\n",
    "contextily.add_basemap(\n",
    "    ax, crs=df.crs.to_string(), source=contextily.providers.Esri.NatGeoWorldMap\n",
    ")"
   ]
  },
  {
   "cell_type": "code",
   "execution_count": null,
   "metadata": {},
   "outputs": [],
   "source": [
    "df.head()\n",
    "summary_table = df.groupby(\"naip:state\").size().reset_index(name=\"Count\")\n",
    "summary_table"
   ]
  },
  {
   "cell_type": "code",
   "execution_count": null,
   "metadata": {},
   "outputs": [],
   "source": [
    "import matplotlib.pyplot as plt\n",
    "# One day Alaska will be included in NAIP\n",
    "states = [\n",
    "    {\n",
    "        \"code\": \"hi\",\n",
    "        \"name\": \"Hawaii\"\n",
    "    },\n",
    "    {\n",
    "        \"code\": \"pr\",\n",
    "        \"name\": \"Puerto Rico\"\n",
    "    },\n",
    "    {\n",
    "        \"code\": \"ak\",\n",
    "        \"name\": \"Alaska\"\n",
    "    },\n",
    "    {\n",
    "        \"code\": \"vi\",\n",
    "        \"name\": \"Virgin Islands\"\n",
    "    },\n",
    "]\n",
    "\n",
    "fig, axs = plt.subplots(len(states), 1, figsize=(12, 8))\n",
    "\n",
    "for idx, state in enumerate(states):\n",
    "    stateDf = df[df[\"naip:state\"] == state[\"code\"]]\n",
    "    if stateDf.empty:\n",
    "        continue\n",
    "    merged_polygon = stateDf[\"geometry\"].unary_union\n",
    "    bounding_box = merged_polygon.bounds\n",
    "    stateDf.plot(ax=axs[idx])  # f\"{state} {bounding_box}\")\n",
    "    axs[idx].set_title(f\"{state['name']} {bounding_box}\")\n",
    "\n",
    "plt.tight_layout()\n",
    "plt.show()\n"
   ]
  }
 ],
 "metadata": {
  "kernelspec": {
   "display_name": ".venv",
   "language": "python",
   "name": "python3"
  },
  "language_info": {
   "codemirror_mode": {
    "name": "ipython",
    "version": 3
   },
   "file_extension": ".py",
   "mimetype": "text/x-python",
   "name": "python",
   "nbconvert_exporter": "python",
   "pygments_lexer": "ipython3",
   "version": "3.10.12"
  }
 },
 "nbformat": 4,
 "nbformat_minor": 2
}
