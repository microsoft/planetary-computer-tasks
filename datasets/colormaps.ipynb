{
 "cells": [
  {
   "cell_type": "code",
   "execution_count": 20,
   "metadata": {},
   "outputs": [],
   "source": [
    "from pathlib import Path\n",
    "import json\n",
    "import pandas as pd\n",
    "import re"
   ]
  },
  {
   "cell_type": "code",
   "execution_count": 3,
   "metadata": {},
   "outputs": [
    {
     "name": "stdout",
     "output_type": "stream",
     "text": [
      "Loaded 24 config.json files.\n"
     ]
    }
   ],
   "source": [
    "datasets_path = Path(\".\")\n",
    "\n",
    "config_paths = datasets_path.rglob(\"*/collection/config.json\")\n",
    "\n",
    "configs = []\n",
    "\n",
    "for path in config_paths:\n",
    "    try:\n",
    "        with open(path, \"r\") as f:\n",
    "            config_data = json.load(f)\n",
    "\n",
    "        collection_id = path.parent.parent.name\n",
    "        config_data['collection_id'] = collection_id\n",
    "\n",
    "        configs.append(config_data)\n",
    "    except Exception as e:\n",
    "        print(f\"Error loading {path}: {e}\")\n",
    "\n",
    "print(f\"Loaded {len(configs)} config.json files.\")"
   ]
  },
  {
   "cell_type": "code",
   "execution_count": 1,
   "metadata": {},
   "outputs": [],
   "source": [
    "custom_colormaps = ['io-bii', 'jrc-occurrence', 'jrc-change', 'jrc-seasonality', 'jrc-recurrence', 'jrc-transitions', 'jrc-extent', 'ai4g-lulc', 'chesapeake-lc-13', 'chesapeake-lc-7', 'chesapeake-lu', 'drcog-lulc', 'esa-cci-lc', 'esa-worldcover', 'io-lulc', 'io-lulc-9-class', 'gap-lulc', 'nrcan-lulc', 'usda-cdl', 'usda-cdl-corn', 'usda-cdl-soybeans', 'usda-cdl-cotton', 'usda-cdl-wheat', 'usgs-lcmap', 'modis-10A1', 'modis-10A2', 'modis-13A1|Q1', 'modis-14A1|A2', 'modis-15A2H|A3H', 'modis-16A3GF-ET', 'modis-16A3GF-PET', 'modis-17A2H|A2HGF', 'modis-17A3HGF', 'modis-64A1', 'mtbs-severity', 'lidar-classification', 'lidar-returns', 'lidar-hag', 'lidar-hag-alternative', 'lidar-intensity', 'chloris-biomass', 'c-cap', 'alos-palsar-mask', 'alos-fnf', 'qpe', 'viirs-10a1', 'viirs-13a1', 'viirs-14a1', 'viirs-15a2H']"
   ]
  },
  {
   "cell_type": "code",
   "execution_count": 29,
   "metadata": {},
   "outputs": [],
   "source": [
    "options_colormaps = [\n",
    "    {   'collection_id': config.get('collection_id'),\n",
    "        'colormap_name': match.group(1)}\n",
    "    for config in configs\n",
    "    for render_option in config.get('mosaic_info', {}).get('render_options', [])\n",
    "    if (match := re.search(r'(?:^|&)colormap_name=([^&]+)', render_option.get('options', '')))\n",
    "]"
   ]
  },
  {
   "cell_type": "code",
   "execution_count": 30,
   "metadata": {},
   "outputs": [],
   "source": [
    "params_colormaps = [{'collection_id': config.get('collection_id'), 'colormap_name': config.get('render_config').get('render_params').get('colormap_name')} for config in configs]"
   ]
  },
  {
   "cell_type": "code",
   "execution_count": 31,
   "metadata": {},
   "outputs": [
    {
     "data": {
      "text/html": [
       "<div>\n",
       "<style scoped>\n",
       "    .dataframe tbody tr th:only-of-type {\n",
       "        vertical-align: middle;\n",
       "    }\n",
       "\n",
       "    .dataframe tbody tr th {\n",
       "        vertical-align: top;\n",
       "    }\n",
       "\n",
       "    .dataframe thead th {\n",
       "        text-align: right;\n",
       "    }\n",
       "</style>\n",
       "<table border=\"1\" class=\"dataframe\">\n",
       "  <thead>\n",
       "    <tr style=\"text-align: right;\">\n",
       "      <th></th>\n",
       "      <th>collection_id</th>\n",
       "      <th>colormap_name</th>\n",
       "    </tr>\n",
       "  </thead>\n",
       "  <tbody>\n",
       "    <tr>\n",
       "      <th>0</th>\n",
       "      <td>io-biodiversity</td>\n",
       "      <td>io-bii</td>\n",
       "    </tr>\n",
       "    <tr>\n",
       "      <th>1</th>\n",
       "      <td>alos-dem</td>\n",
       "      <td>gray</td>\n",
       "    </tr>\n",
       "    <tr>\n",
       "      <th>2</th>\n",
       "      <td>alos-dem</td>\n",
       "      <td>terrain</td>\n",
       "    </tr>\n",
       "    <tr>\n",
       "      <th>3</th>\n",
       "      <td>alos-dem</td>\n",
       "      <td>viridis</td>\n",
       "    </tr>\n",
       "    <tr>\n",
       "      <th>4</th>\n",
       "      <td>alos-dem</td>\n",
       "      <td>gray_r</td>\n",
       "    </tr>\n",
       "    <tr>\n",
       "      <th>...</th>\n",
       "      <td>...</td>\n",
       "      <td>...</td>\n",
       "    </tr>\n",
       "    <tr>\n",
       "      <th>142</th>\n",
       "      <td>usgs-gap</td>\n",
       "      <td>gap-lulc</td>\n",
       "    </tr>\n",
       "    <tr>\n",
       "      <th>143</th>\n",
       "      <td>mobi</td>\n",
       "      <td>magma</td>\n",
       "    </tr>\n",
       "    <tr>\n",
       "      <th>144</th>\n",
       "      <td>nasadem</td>\n",
       "      <td>terrain</td>\n",
       "    </tr>\n",
       "    <tr>\n",
       "      <th>145</th>\n",
       "      <td>drcog-lulc</td>\n",
       "      <td>drcog-lulc</td>\n",
       "    </tr>\n",
       "    <tr>\n",
       "      <th>146</th>\n",
       "      <td>hgb</td>\n",
       "      <td>greens</td>\n",
       "    </tr>\n",
       "  </tbody>\n",
       "</table>\n",
       "<p>147 rows × 2 columns</p>\n",
       "</div>"
      ],
      "text/plain": [
       "       collection_id colormap_name\n",
       "0    io-biodiversity        io-bii\n",
       "1           alos-dem          gray\n",
       "2           alos-dem       terrain\n",
       "3           alos-dem       viridis\n",
       "4           alos-dem        gray_r\n",
       "..               ...           ...\n",
       "142         usgs-gap      gap-lulc\n",
       "143             mobi         magma\n",
       "144          nasadem       terrain\n",
       "145       drcog-lulc    drcog-lulc\n",
       "146              hgb        greens\n",
       "\n",
       "[147 rows x 2 columns]"
      ]
     },
     "execution_count": 31,
     "metadata": {},
     "output_type": "execute_result"
    }
   ],
   "source": [
    "pd.DataFrame(options_colormaps+params_colormaps)"
   ]
  }
 ],
 "metadata": {
  "kernelspec": {
   "display_name": "spatio2",
   "language": "python",
   "name": "python3"
  },
  "language_info": {
   "codemirror_mode": {
    "name": "ipython",
    "version": 3
   },
   "file_extension": ".py",
   "mimetype": "text/x-python",
   "name": "python",
   "nbconvert_exporter": "python",
   "pygments_lexer": "ipython3",
   "version": "3.12.2"
  }
 },
 "nbformat": 4,
 "nbformat_minor": 2
}
